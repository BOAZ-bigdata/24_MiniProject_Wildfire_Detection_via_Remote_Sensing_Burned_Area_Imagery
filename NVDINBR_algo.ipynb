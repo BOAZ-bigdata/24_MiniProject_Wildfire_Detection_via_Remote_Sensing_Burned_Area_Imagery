{
 "cells": [
  {
   "cell_type": "code",
   "execution_count": null,
   "metadata": {
    "vscode": {
     "languageId": "plaintext"
    }
   },
   "outputs": [],
   "source": [
    "# 다음은 Main Method의 예시 코드입니다\n",
    "\n",
    "def compute_ndvi(image, red_index, nir_index, epsilon=1e-10):\n",
    "    \"\"\"\n",
    "    NDVI (Normalized Difference Vegetation Index)를 계산하는 함수.\n",
    "    \n",
    "    NDVI = (NIR - Red) / (NIR + Red + epsilon)\n",
    "    \n",
    "    Parameters:\n",
    "        image (numpy.ndarray): (H, W, C) 형태의 위성 이미지. C는 스펙트럼 밴드 수.\n",
    "        red_index (int): 이미지에서 Red 밴드의 인덱스.\n",
    "        nir_index (int): 이미지에서 Near Infrared (NIR) 밴드의 인덱스.\n",
    "        epsilon (float): 0으로 나누는 것을 방지하기 위한 매우 작은 값.\n",
    "    \n",
    "    Returns:\n",
    "        ndvi (numpy.ndarray): (H, W) 형태의 NDVI 값.\n",
    "    \"\"\"\n",
    "    # 각 밴드 추출 및 float32 타입 변환\n",
    "    red = image[:, :, red_index].astype(np.float32)\n",
    "    nir = image[:, :, nir_index].astype(np.float32)\n",
    "    \n",
    "    # NDVI 계산\n",
    "    ndvi = (nir - red) / (nir + red + epsilon)\n",
    "    return ndvi\n",
    "\n",
    "def compute_nbr(image, nir_index, swir_index, epsilon=1e-10):\n",
    "    \"\"\"\n",
    "    NBR (Normalized Burn Ratio)를 계산하는 함수.\n",
    "    \n",
    "    NBR = (NIR - SWIR) / (NIR + SWIR + epsilon)\n",
    "    \n",
    "    Parameters:\n",
    "        image (numpy.ndarray): (H, W, C) 형태의 위성 이미지.\n",
    "        nir_index (int): 이미지에서 Near Infrared (NIR) 밴드의 인덱스.\n",
    "        swir_index (int): 이미지에서 Short-wave Infrared (SWIR) 밴드의 인덱스.\n",
    "        epsilon (float): 0으로 나누는 것을 방지하기 위한 매우 작은 값.\n",
    "    \n",
    "    Returns:\n",
    "        nbr (numpy.ndarray): (H, W) 형태의 NBR 값.\n",
    "    \"\"\"\n",
    "    # 각 밴드 추출 및 float32 타입 변환\n",
    "    nir = image[:, :, nir_index].astype(np.float32)\n",
    "    swir = image[:, :, swir_index].astype(np.float32)\n",
    "    \n",
    "    # NBR 계산\n",
    "    nbr = (nir - swir) / (nir + swir + epsilon)\n",
    "    return nbr\n",
    "\n",
    "# 예시 사용법:\n",
    "if __name__ == \"__main__\":\n",
    "    # 예시: (512, 512, 6) 크기의 더미 위성 이미지 생성 (0~255 범위)\n",
    "    # 채널 예시: 0: Blue, 1: Green, 2: Red, 3: NIR, 4: SWIR, 5: 추가 SWIR (필요에 따라)\n",
    "    image = np.random.rand(512, 512, 6) * 255\n",
    "\n",
    "    # 밴드 인덱스 지정 (예: Red=2, NIR=3, SWIR=4)\n",
    "    red_index = 2\n",
    "    nir_index = 3\n",
    "    swir_index = 4\n",
    "\n",
    "    # NDVI와 NBR 계산\n",
    "    ndvi = compute_ndvi(image, red_index, nir_index)\n",
    "    nbr = compute_nbr(image, nir_index, swir_index)\n",
    "\n",
    "    # 계산 결과 통계 출력\n",
    "    print(\"NDVI: min = {:.3f}, max = {:.3f}, mean = {:.3f}\".format(np.min(ndvi), np.max(ndvi), np.mean(ndvi)))\n",
    "    print(\"NBR:  min = {:.3f}, max = {:.3f}, mean = {:.3f}\".format(np.min(nbr), np.max(nbr), np.mean(nbr)))"
   ]
  }
 ],
 "metadata": {
  "language_info": {
   "name": "python"
  }
 },
 "nbformat": 4,
 "nbformat_minor": 2
}
